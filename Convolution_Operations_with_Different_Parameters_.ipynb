{
  "nbformat": 4,
  "nbformat_minor": 0,
  "metadata": {
    "colab": {
      "provenance": []
    },
    "kernelspec": {
      "name": "python3",
      "display_name": "Python 3"
    },
    "language_info": {
      "name": "python"
    }
  },
  "cells": [
    {
      "cell_type": "code",
      "execution_count": 1,
      "metadata": {
        "colab": {
          "base_uri": "https://localhost:8080/"
        },
        "id": "HOk5CY8OpywW",
        "outputId": "62ca2085-18cf-4faf-e5c7-5134b23209b0"
      },
      "outputs": [
        {
          "output_type": "stream",
          "name": "stdout",
          "text": [
            "\u001b[1m1/1\u001b[0m \u001b[32m━━━━━━━━━━━━━━━━━━━━\u001b[0m\u001b[37m\u001b[0m \u001b[1m0s\u001b[0m 216ms/step\n",
            "\u001b[1m1/1\u001b[0m \u001b[32m━━━━━━━━━━━━━━━━━━━━\u001b[0m\u001b[37m\u001b[0m \u001b[1m0s\u001b[0m 73ms/step\n",
            "\u001b[1m1/1\u001b[0m \u001b[32m━━━━━━━━━━━━━━━━━━━━\u001b[0m\u001b[37m\u001b[0m \u001b[1m0s\u001b[0m 76ms/step\n",
            "\u001b[1m1/1\u001b[0m \u001b[32m━━━━━━━━━━━━━━━━━━━━\u001b[0m\u001b[37m\u001b[0m \u001b[1m0s\u001b[0m 83ms/step\n",
            "Stride = 1, Padding = 'VALID' Output:\n",
            " [[-6. -6. -6.]\n",
            " [-6. -6. -6.]\n",
            " [-6. -6. -6.]] \n",
            "\n",
            "Stride = 1, Padding = 'SAME' Output:\n",
            " [[ -9.  -4.  -4.  -4.  13.]\n",
            " [-21.  -6.  -6.  -6.  27.]\n",
            " [-36.  -6.  -6.  -6.  42.]\n",
            " [-51.  -6.  -6.  -6.  57.]\n",
            " [-39.  -4.  -4.  -4.  43.]] \n",
            "\n",
            "Stride = 2, Padding = 'VALID' Output:\n",
            " [[-6. -6.]\n",
            " [-6. -6.]] \n",
            "\n",
            "Stride = 2, Padding = 'SAME' Output:\n",
            " [[ -9.  -4.  13.]\n",
            " [-36.  -6.  42.]\n",
            " [-39.  -4.  43.]] \n",
            "\n"
          ]
        }
      ],
      "source": [
        "import numpy as np\n",
        "import tensorflow as tf\n",
        "from tensorflow.keras.layers import Conv2D\n",
        "from tensorflow.keras.models import Sequential\n",
        "\n",
        "# Define the 5x5 input matrix\n",
        "input_matrix = np.array([[1, 2, 3, 4, 5],\n",
        "                         [6, 7, 8, 9, 10],\n",
        "                         [11, 12, 13, 14, 15],\n",
        "                         [16, 17, 18, 19, 20],\n",
        "                         [21, 22, 23, 24, 25]], dtype=np.float32)\n",
        "\n",
        "# Reshape input to match Conv2D input format (batch_size, height, width, channels)\n",
        "input_matrix = input_matrix.reshape((1, 5, 5, 1))\n",
        "\n",
        "# Define the 3x3 kernel\n",
        "kernel = np.array([[1, 0, -1],\n",
        "                   [1, 0, -1],\n",
        "                   [1, 0, -1]], dtype=np.float32)\n",
        "\n",
        "# Reshape kernel to match Conv2D kernel format (height, width, input_channels, output_channels)\n",
        "kernel = kernel.reshape((3, 3, 1, 1))\n",
        "\n",
        "# Function to perform convolution with different parameters\n",
        "def apply_convolution(input_data, kernel, stride, padding):\n",
        "    model = Sequential([\n",
        "        Conv2D(filters=1, kernel_size=(3, 3), strides=(stride, stride), padding=padding,\n",
        "               kernel_initializer=tf.keras.initializers.Constant(kernel), use_bias=False)\n",
        "    ])\n",
        "    return model.predict(input_data)\n",
        "\n",
        "# Perform convolutions\n",
        "outputs = {\n",
        "    \"Stride = 1, Padding = 'VALID'\": apply_convolution(input_matrix, kernel, stride=1, padding='valid'),\n",
        "    \"Stride = 1, Padding = 'SAME'\": apply_convolution(input_matrix, kernel, stride=1, padding='same'),\n",
        "    \"Stride = 2, Padding = 'VALID'\": apply_convolution(input_matrix, kernel, stride=2, padding='valid'),\n",
        "    \"Stride = 2, Padding = 'SAME'\": apply_convolution(input_matrix, kernel, stride=2, padding='same')\n",
        "}\n",
        "\n",
        "# Print the output feature maps\n",
        "for key, value in outputs.items():\n",
        "    print(f\"{key} Output:\\n\", value.squeeze(), \"\\n\")\n"
      ]
    }
  ]
}